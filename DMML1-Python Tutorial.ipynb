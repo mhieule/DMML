{
 "cells": [
  {
   "cell_type": "markdown",
   "id": "9a480e88",
   "metadata": {},
   "source": [
    "# Data type"
   ]
  },
  {
   "cell_type": "markdown",
   "id": "ca51f620",
   "metadata": {},
   "source": [
    "## Numbers"
   ]
  },
  {
   "cell_type": "code",
   "execution_count": 1,
   "id": "33ad52b2",
   "metadata": {},
   "outputs": [
    {
     "name": "stdout",
     "output_type": "stream",
     "text": [
      "<class 'int'>\n",
      "9\n",
      "<class 'float'>\n",
      "y is equal to 15\n"
     ]
    }
   ],
   "source": [
    "x = 3\n",
    "print((type(x)))\n",
    "print(x**2)\n",
    "\n",
    "y = x**2.5\n",
    "print(type(y))\n",
    "print ('y is equal to %d' %y)"
   ]
  },
  {
   "cell_type": "markdown",
   "id": "9e13c684",
   "metadata": {},
   "source": [
    "## Booleans"
   ]
  },
  {
   "cell_type": "code",
   "execution_count": 2,
   "id": "f76f5c12",
   "metadata": {},
   "outputs": [
    {
     "name": "stdout",
     "output_type": "stream",
     "text": [
      "<class 'bool'>\n",
      "False\n",
      "True\n",
      "False\n",
      "True\n"
     ]
    }
   ],
   "source": [
    "#Booleans\n",
    "trueVar = True\n",
    "falseVar = False\n",
    "print(type(trueVar))         \n",
    "print(trueVar and falseVar)#Logical AND\n",
    "print(trueVar or falseVar) #Logical OR\n",
    "print(not trueVar)         #Logical NOT\n",
    "print(trueVar != falseVar) #Logical XOR"
   ]
  },
  {
   "cell_type": "markdown",
   "id": "2efe7005",
   "metadata": {},
   "source": [
    "## String and related methods"
   ]
  },
  {
   "cell_type": "code",
   "execution_count": 3,
   "id": "b2d1a372",
   "metadata": {},
   "outputs": [
    {
     "name": "stdout",
     "output_type": "stream",
     "text": [
      "hello world 12\n",
      "14\n",
      "Hello world 12\n",
      "HELLO WORLD 12\n",
      "      hello world 12\n",
      "   hello world 12   \n",
      "he77o wor7d 12\n",
      "eoijfeoi\n"
     ]
    }
   ],
   "source": [
    "#String and methods for string objects\n",
    "hello = 'hello'\n",
    "world = 'world'\n",
    "\n",
    "helloworld = hello + ' ' + world #concat in python\n",
    "helloworld12 = '%s %s %d' %(hello, world, 12) #sprintf style string formating\n",
    "\n",
    "print(helloworld12)\n",
    "print(len(helloworld12)) \n",
    "print(helloworld12.capitalize())\n",
    "print(helloworld12.upper())\n",
    "print(helloworld12.rjust(20)) #right justify the string given the new string contains 20 characters\n",
    "print(helloworld12.center(20)) #center the string given the new string contains 20 characters\n",
    "print(helloworld12.replace('l','7')) #replace all 'l' with '7'\n",
    "print('    eoijfeoi  '.strip()) #strip leading and trailing spaces\n"
   ]
  },
  {
   "cell_type": "markdown",
   "id": "ef064501",
   "metadata": {},
   "source": [
    "# Containers (Lists, Dicts, Sets, Tuples)\n",
    "## Lists\n",
    "List = Array in Python, but resizable and can contain elements of different types\n"
   ]
  },
  {
   "cell_type": "code",
   "execution_count": 4,
   "id": "4e99c98a",
   "metadata": {},
   "outputs": [
    {
     "name": "stdout",
     "output_type": "stream",
     "text": [
      "[1, 2, 3] 3\n",
      "3\n"
     ]
    }
   ],
   "source": [
    "lst = [1, 2, 3]        #create a new list\n",
    "print(lst, lst[2])     #print a list and a number on one line\n",
    "print(lst[-1])         #negative indicies count from the end of the list, here it prints '3'\n",
    "lst[2] = 'foo'         #list can contain element of different types\n",
    "lst.append('bar')      #list is resizable\n",
    "lastElem = lst.pop()   #Remove and return the last element of the list"
   ]
  },
  {
   "cell_type": "markdown",
   "id": "f479efef",
   "metadata": {},
   "source": [
    "### List slicing\n"
   ]
  },
  {
   "cell_type": "code",
   "execution_count": 5,
   "id": "c6a9fc07",
   "metadata": {},
   "outputs": [
    {
     "name": "stdout",
     "output_type": "stream",
     "text": [
      "[0, 1, 2, 3, 4]\n",
      "[2, 3]\n",
      "[2, 3, 4]\n",
      "[0, 1]\n",
      "[0, 1, 2, 3, 4]\n",
      "[0, 1, 2, 3]\n",
      "[0, 1, 8, 9, 10, 4]\n"
     ]
    }
   ],
   "source": [
    "nums = (list(range(5))) #range is a built-in function that creates a list of integers\n",
    "print(nums)\n",
    "print(nums[2:4]) #slice from index 2 to 4 (exclusive)\n",
    "print(nums[2:])  #slice from index 2 to the end\n",
    "print(nums[:2])  #slice from the start to index 2 (exclusive)\n",
    "print(nums[:])   #slice the whole list\n",
    "print(nums[:-1]) #Slice indices can be negative\n",
    "nums[2:4]=[8,9,10] #Assign new sublist to a slice, the number of elements does not have to be match\n",
    "print(nums)"
   ]
  },
  {
   "cell_type": "markdown",
   "id": "eab2395d",
   "metadata": {},
   "source": [
    "### List Loop\n"
   ]
  },
  {
   "cell_type": "code",
   "execution_count": 8,
   "id": "5b5b820c",
   "metadata": {},
   "outputs": [
    {
     "name": "stdout",
     "output_type": "stream",
     "text": [
      "cats\n",
      "dogs\n",
      "monkeys\n",
      "Index 0: cats\n",
      "Index 1: dogs\n",
      "Index 2: monkeys\n"
     ]
    }
   ],
   "source": [
    "animals = ['cats', 'dogs', 'monkeys']\n",
    "\n",
    "#Option 1: Enhanced for loop\n",
    "for animal in animals:\n",
    "    print(animal)\n",
    "    \n",
    "#Option 2: If you want access to the index of each element within the loop.\n",
    "for index, animal in enumerate(animals):\n",
    "    print('Index %d: %s' %(index, animal))"
   ]
  },
  {
   "cell_type": "markdown",
   "id": "be7c210e",
   "metadata": {},
   "source": [
    "### List Comprehensions"
   ]
  },
  {
   "cell_type": "code",
   "execution_count": 10,
   "id": "a47fbad7",
   "metadata": {},
   "outputs": [
    {
     "name": "stdout",
     "output_type": "stream",
     "text": [
      "[0, 1, 4, 9, 16]\n",
      "[0, 4, 16]\n"
     ]
    }
   ],
   "source": [
    "nums = list(range(5))\n",
    "\n",
    "#List comprehension without conditions\n",
    "squares = [x**2 for x in nums]\n",
    "print(squares)\n",
    "\n",
    "#List comprehension with conditions\n",
    "even_squares = [x**2 for x in nums if x%2==0]\n",
    "print(even_squares)"
   ]
  },
  {
   "cell_type": "markdown",
   "id": "7a835be2",
   "metadata": {},
   "source": [
    "## Dictionaries"
   ]
  },
  {
   "cell_type": "code",
   "execution_count": 18,
   "id": "b6b82059",
   "metadata": {},
   "outputs": [
    {
     "name": "stdout",
     "output_type": "stream",
     "text": [
      "1\n",
      "True\n",
      "False\n",
      "2 True\n",
      "2\n",
      "N/A\n",
      "N/A\n"
     ]
    }
   ],
   "source": [
    "legDict = {'person':1, 'cat':4, 'spider':8}\n",
    "print(legDict['person'])\n",
    "print('cat' in legDict)\n",
    "print('monkey' in legDict)\n",
    "\n",
    "legDict['monkey']=2\n",
    "print(legDict['monkey'], 'monkey' in legDict)\n",
    "\n",
    "print(legDict.get('monkey', 'N/A'))\n",
    "print(legDict.get('human', 'N/A'))\n",
    "\n",
    "del legDict['person']\n",
    "print(legDict.get('person', 'N/A'))\n"
   ]
  },
  {
   "cell_type": "markdown",
   "id": "d14fcde1",
   "metadata": {},
   "source": [
    "### Dictionary Loop"
   ]
  },
  {
   "cell_type": "code",
   "execution_count": null,
   "id": "f9af97d1",
   "metadata": {},
   "outputs": [],
   "source": [
    "legDict = {'person':1, 'cat':4, 'spider':8}\n",
    "for animal in legDict:\n",
    "    legs = legDict[animal]\n",
    "    print('A %s has %d legs' %(animal,legs))\n",
    "    \n",
    "    \n",
    "#If I want access to keys and corresponding values, use the 'items' method\n",
    "for animal, leg in legDict.items():\n",
    "    print('A %s has %d legs' %(animal, leg))"
   ]
  },
  {
   "cell_type": "markdown",
   "id": "7c4af51b",
   "metadata": {},
   "source": [
    "### Dictionary Comprehensions"
   ]
  },
  {
   "cell_type": "code",
   "execution_count": null,
   "id": "95b8dce0",
   "metadata": {},
   "outputs": [],
   "source": []
  },
  {
   "cell_type": "markdown",
   "id": "29001247",
   "metadata": {},
   "source": [
    "## Set"
   ]
  },
  {
   "cell_type": "code",
   "execution_count": null,
   "id": "66990b40",
   "metadata": {},
   "outputs": [],
   "source": []
  },
  {
   "cell_type": "markdown",
   "id": "f8a2aaf3",
   "metadata": {},
   "source": [
    "### Set loop"
   ]
  },
  {
   "cell_type": "code",
   "execution_count": null,
   "id": "9796ee23",
   "metadata": {},
   "outputs": [],
   "source": []
  },
  {
   "cell_type": "markdown",
   "id": "35f2ff6b",
   "metadata": {},
   "source": [
    "### Set comprehensions"
   ]
  },
  {
   "cell_type": "code",
   "execution_count": null,
   "id": "8ab99487",
   "metadata": {},
   "outputs": [],
   "source": []
  },
  {
   "cell_type": "markdown",
   "id": "02a894fe",
   "metadata": {},
   "source": [
    "## Tuple"
   ]
  },
  {
   "cell_type": "code",
   "execution_count": null,
   "id": "55bc98ef",
   "metadata": {},
   "outputs": [],
   "source": []
  },
  {
   "cell_type": "markdown",
   "id": "8d5bf9ff",
   "metadata": {},
   "source": []
  },
  {
   "cell_type": "markdown",
   "id": "f239d71b",
   "metadata": {},
   "source": []
  }
 ],
 "metadata": {
  "kernelspec": {
   "display_name": "Python 3",
   "language": "python",
   "name": "python3"
  },
  "language_info": {
   "codemirror_mode": {
    "name": "ipython",
    "version": 3
   },
   "file_extension": ".py",
   "mimetype": "text/x-python",
   "name": "python",
   "nbconvert_exporter": "python",
   "pygments_lexer": "ipython3",
   "version": "3.8.8"
  }
 },
 "nbformat": 4,
 "nbformat_minor": 5
}
