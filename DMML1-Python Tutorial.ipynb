{
 "cells": [
  {
   "cell_type": "markdown",
   "id": "9a480e88",
   "metadata": {},
   "source": [
    "# Basic data type"
   ]
  },
  {
   "cell_type": "code",
   "execution_count": 10,
   "id": "33ad52b2",
   "metadata": {},
   "outputs": [
    {
     "name": "stdout",
     "output_type": "stream",
     "text": [
      "<class 'int'>\n",
      "9\n",
      "<class 'float'>\n",
      "y is equal to 15\n"
     ]
    }
   ],
   "source": [
    "#Numbers\n",
    "\n",
    "x = 3\n",
    "print((type(x)))\n",
    "print(x**2)\n",
    "\n",
    "y = x**2.5\n",
    "print(type(y))\n",
    "print ('y is equal to %d' %y)"
   ]
  },
  {
   "cell_type": "code",
   "execution_count": 11,
   "id": "f76f5c12",
   "metadata": {},
   "outputs": [
    {
     "name": "stdout",
     "output_type": "stream",
     "text": [
      "<class 'bool'>\n",
      "False\n",
      "True\n",
      "False\n",
      "True\n"
     ]
    }
   ],
   "source": [
    "#Booleans\n",
    "trueVar = True\n",
    "falseVar = False\n",
    "print(type(trueVar))         \n",
    "print(trueVar and falseVar)#Logical AND\n",
    "print(trueVar or falseVar) #Logical OR\n",
    "print(not trueVar)         #Logical NOT\n",
    "print(trueVar != falseVar) #Logical XOR"
   ]
  },
  {
   "cell_type": "code",
   "execution_count": 15,
   "id": "45a1c82e",
   "metadata": {},
   "outputs": [
    {
     "name": "stdout",
     "output_type": "stream",
     "text": [
      "hello world 12\n",
      "14\n",
      "Hello world 12\n",
      "HELLO WORLD 12\n",
      "      hello world 12\n",
      "   hello world 12   \n",
      "he77o wor7d 12\n",
      "eoijfeoi\n"
     ]
    }
   ],
   "source": [
    "#String and methods for string objects\n",
    "hello = 'hello'\n",
    "world = 'world'\n",
    "\n",
    "helloworld = hello + ' ' + world #concat in python\n",
    "helloworld12 = '%s %s %d' %(hello, world, 12) #sprintf style string formating\n",
    "\n",
    "print(helloworld12)\n",
    "print(len(helloworld12)) \n",
    "print(helloworld12.capitalize())\n",
    "print(helloworld12.upper())\n",
    "print(helloworld12.rjust(20)) #right justify the string given the new string contains 20 characters\n",
    "print(helloworld12.center(20)) #center the string given the new string contains 20 characters\n",
    "print(helloworld12.replace('l','7')) #replace all 'l' with '7'\n",
    "print('    eoijfeoi  '.strip()) #strip leading and trailing spaces\n"
   ]
  },
  {
   "cell_type": "markdown",
   "id": "b3647587",
   "metadata": {},
   "source": [
    "# Containers (Lists, Dicts, Sets, Tuples)\n",
    "## Lists\n",
    "List = Array in Python, but resizable and can contain elements of different types\n"
   ]
  },
  {
   "cell_type": "code",
   "execution_count": 21,
   "id": "cd7a7062",
   "metadata": {},
   "outputs": [
    {
     "name": "stdout",
     "output_type": "stream",
     "text": [
      "[1, 2, 3] 3\n",
      "3\n"
     ]
    }
   ],
   "source": [
    "lst = [1, 2, 3]        #create a new list\n",
    "print(lst, lst[2])     #print a list and a number on one line\n",
    "print(lst[-1])         #negative indicies count from the end of the list, here it prints '3'\n",
    "lst[2] = 'foo'         #list can contain element of different types\n",
    "lst.append('bar')      #list is resizable\n",
    "lastElem = lst.pop()   #Remove and return the last element of the list"
   ]
  },
  {
   "cell_type": "code",
   "execution_count": null,
   "id": "7d701061",
   "metadata": {},
   "outputs": [],
   "source": []
  }
 ],
 "metadata": {
  "kernelspec": {
   "display_name": "Python 3",
   "language": "python",
   "name": "python3"
  },
  "language_info": {
   "codemirror_mode": {
    "name": "ipython",
    "version": 3
   },
   "file_extension": ".py",
   "mimetype": "text/x-python",
   "name": "python",
   "nbconvert_exporter": "python",
   "pygments_lexer": "ipython3",
   "version": "3.8.8"
  }
 },
 "nbformat": 4,
 "nbformat_minor": 5
}
